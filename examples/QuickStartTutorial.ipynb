{
 "cells": [
  {
   "cell_type": "markdown",
   "metadata": {},
   "source": [
    "Welcome to the VICE tutorial! \n",
    "=============================\n",
    "\n",
    "Keeping true to its name, VICE is highly versatile, allowing users to specify their own nucleosynthetic yields for various elements independent of supernova nucleosynthesis studies; these can even be functions of metallicity! VICE also affords users the ability to construct arbitrary mathematical functions to describe many evolutionary parameters, including the star formation history, inflow metallicities, star formation efficiency, and more. \n",
    "\n",
    "If you haven't installed VICE, this can be done via ``pip install vice`` in a ``Unix`` terminal. Instructions for alternate installation methods can be found at https://vice-astro.readthedocs.io/en/latest/install.html. If you're viewing this tutorial in a web browser but would like a local copy, you can do so by cloning the VICE repository from GitHub and launching ``jupyter`` from the command line: \n",
    "\n",
    "``git clone https://github.com/giganano/VICE.git`` \n",
    "\n",
    "``cd VICE`` \n",
    "\n",
    "``make tutorial`` or ``jupyter notebook examples/QuickStartTutorial.ipynb`` \n",
    "\n",
    "Before diving in, all users should be aware that VICE's documentation is available online at https://vice-astro.readthedocs.io. Assuming VICE is installed, the terminal command ``vice --docs`` will automatically open a web browser to that page. Users should also be aware of the science documentation, accessible from the main documentation's home page. In the bottom right, users may click on the ``v: latest`` button to download a PDF copy if they so choose. Standard documentation of the package contents in their entirety is available through the comprehensive API reference, also accessible from the home page. As is common practice in python packages, this material is also available in the docstring embedded within the code itself. \n",
    "\n",
    "We've organized this tutorial in a modular manner based on the science interests of the user: \n",
    "\n",
    "**Table of Contents**: \n",
    "- [Yield Calculations](#yield_calculations) \n",
    "    - [Core Collapse Supernovae](#yield_calculations_ccsn) \n",
    "    - [Type Ia Supernovae](#yield_calculations_snia) \n",
    "    - [Asymptotic Giant Branch Stars](#yield_calculations_agb) \n",
    "    - [The Global Yield Settings](#yield_calculations_globals) \n",
    "    - [Yield Presets](#yield_calculations_presets) \n",
    "- [Single Stellar Populations](#ssps) \n",
    "- [One-Zone Models](#onezonemodels) \n",
    "    - [One-Zone Model Outputs](#onezonemodels_outputs) \n",
    "- [Migration Prescriptions](#migration) \n",
    "- [Multi-Zone Models](#multizonemodels) \n",
    "    - [Milky Way Models](#multizonemodels_milkyway) \n",
    "- [Useful Built-in Data](#useful_data) \n",
    "\n",
    "In general, each section builds on the previous sections and assumes that the user has familiarized themselves with that material, but no instruction is duplicated. Users are welcome to go about this tutorial however they desire, but should be aware of this if they choose to skip pieces of the tutorial. For example, users electing to skip to the [One-Zone Models](#onezonemodels) section should be aware that [The Global Yield Settings](#yield_calculations_globals) demonstrates how they can modify their adopted nucleosynthetic yields. "
   ]
  },
  {
   "cell_type": "code",
   "execution_count": 1,
   "metadata": {},
   "outputs": [],
   "source": [
    "import numpy as np # we'll use NumPy for this demonstration, but VICE does not need it. \n",
    "import warnings # we'll ignore warnings for the sake of the tutorial as well. \n",
    "warnings.filterwarnings(\"ignore\") \n",
    "import math \n",
    "import vice "
   ]
  },
  {
   "cell_type": "markdown",
   "metadata": {},
   "source": [
    "<a id=\"yield_calculations\"></a> \n",
    "Yield Calculations \n",
    "------------------\n",
    "Users can calculate nucleosynthetic yields using built-in tables from supernova nucleosynthesis studies with the ``vice.yields`` module. Within this, they'll find the ``vice.yields.agb``, ``vice.yields.ccsne``, ``vice.yields.sneia``, and ``vice.yields.presets`` modules. \n",
    "\n",
    "<a id=\"yield_calculations_ccsn\"></a> \n",
    "Core Collapse Supernovae \n",
    "------------------------\n",
    "Let's start with some core collapse supernova (CCSN) yield calculations. To calculate an IMF-averaged yield of a given element, users should call ``vice.yields.ccsne.fractional``. For example, one calculation of an iron (Fe) yield: "
   ]
  },
  {
   "cell_type": "code",
   "execution_count": 2,
   "metadata": {},
   "outputs": [
    {
     "name": "stdout",
     "output_type": "stream",
     "text": [
      "[0.0006230175041680501, 6.331704025860192e-07]\n"
     ]
    }
   ],
   "source": [
    "print(vice.yields.ccsne.fractional('fe')) "
   ]
  },
  {
   "cell_type": "markdown",
   "metadata": {},
   "source": [
    "The values returned from this function represent the mass of Fe produced by all CCSNe associated with a progenitor stellar population in units of that stellar population's total mass, and the estimated numerical error on this value. For example, given this value, a 100 solar mass star cluster would produce 0.06 solar masses of Fe from all of its CCSNe. \n",
    "\n",
    "By default, this function assumes the yield tables of Limongi & Chieffi (2018) at solar metallicity for non-rotating progenitor models. These parameters can be modified with the keyword arguments ``study``, ``MoverH``, and ``rotation``. For example, the iron yield calculated using the Nomoto, Kobayashi & Tominaga (2013) yields near solar metallicity, and for rotational velocities of 300 km/s at solar metallicity reported by Chieffi & Limongi (2013): "
   ]
  },
  {
   "cell_type": "code",
   "execution_count": 3,
   "metadata": {},
   "outputs": [
    {
     "name": "stdout",
     "output_type": "stream",
     "text": [
      "[0.0005849348049959557, 7.592014641978583e-07]\n",
      "[0.0010823375570382472, 1.083067843315522e-06]\n"
     ]
    }
   ],
   "source": [
    "print(vice.yields.ccsne.fractional('fe', study = \"NKT13\", MoverH = 0.15)) \n",
    "print(vice.yields.ccsne.fractional('fe', study = \"CL13\", rotation = 300)) "
   ]
  },
  {
   "cell_type": "markdown",
   "metadata": {},
   "source": [
    "By default, this function assumes a Kroupa (2001) initial mass function (IMF). VICE has built-in functional forms for this as well as the classic Salpter (1955) IMF, but users may construct their own IMFs as well. For example, a simple modification of the Salpeter single power-law IMF: "
   ]
  },
  {
   "cell_type": "code",
   "execution_count": 4,
   "metadata": {},
   "outputs": [
    {
     "name": "stdout",
     "output_type": "stream",
     "text": [
      "[0.0009486527435871065, 3.570971879865603e-07]\n",
      "[0.00038599529121957366, 1.0892319154108284e-07]\n"
     ]
    }
   ],
   "source": [
    "def my_imf(mass): \n",
    "    r\"\"\" \n",
    "    A user-defined IMF must take stellar mass in solar masses as the \n",
    "    only parameter. They do not need to be normalized in any way. \n",
    "    \"\"\" \n",
    "    return mass**-2  \n",
    "print(vice.yields.ccsne.fractional('fe', IMF = my_imf)) \n",
    "print(vice.yields.ccsne.fractional('fe', IMF = \"salpeter\")) "
   ]
  },
  {
   "cell_type": "markdown",
   "metadata": {},
   "source": [
    "Users may also compute yields under various assumptions about stellar explodability. A few of the popular options from the Sukhbold et al. (2016) study are available under ``vice.yields.ccsne.engines``. Users may also construct their own versions as a callable function of mass; these must return values between 0 and 1, denoting the fraction of stars of a given mass that produce a CCSN event. \n",
    "\n",
    "For example, a simple mass cutoff at 40 solar masses, and the W18 explosion engine from Sukhbold et al. (2016), but both adopting the seminal yield set of Woosley & Weaver (1995): "
   ]
  },
  {
   "cell_type": "code",
   "execution_count": 5,
   "metadata": {},
   "outputs": [
    {
     "name": "stdout",
     "output_type": "stream",
     "text": [
      "[0.0009787174257993062, 1.0152196973467546e-06]\n",
      "[0.0005190637925550223, 5.14707127049084e-07]\n"
     ]
    }
   ],
   "source": [
    "def my_explodability(mass): \n",
    "    r\"\"\" \n",
    "    Stars up to 40 solar masses explode, otherwise no supernova. \n",
    "    \"\"\" \n",
    "    return int(mass <= 40) \n",
    "print(vice.yields.ccsne.fractional('fe', study = \"WW95\", explodability = my_explodability)) \n",
    "print(vice.yields.ccsne.fractional('fe', study = \"WW95\", \n",
    "    explodability = vice.yields.ccsne.engines.S16.W18)) "
   ]
  },
  {
   "cell_type": "markdown",
   "metadata": {},
   "source": [
    "Users may also distinguish between the yields inclucing or excluding stellar winds, as well as net versus gross yields. By default, winds are included and the calculations are ran for net yields. For example, the yields calculated from the N20 explosion engine from Sukhbold et al. (2016): "
   ]
  },
  {
   "cell_type": "code",
   "execution_count": 6,
   "metadata": {},
   "outputs": [
    {
     "name": "stdout",
     "output_type": "stream",
     "text": [
      "[0.0005915744337072646, 5.990962041041991e-07]\n",
      "[0.0008785010934835543, 1.019536948946182e-06]\n",
      "[0.0004780124386632339, 4.89374786970288e-07]\n",
      "[0.0007649390851818777, 9.114762056504661e-07]\n"
     ]
    }
   ],
   "source": [
    "print(vice.yields.ccsne.fractional('fe', study = \"S16/N20\", wind = True, net = True)) \n",
    "print(vice.yields.ccsne.fractional('fe', study = \"S16/N20\", wind = True, net = False)) \n",
    "print(vice.yields.ccsne.fractional('fe', study = \"S16/N20\", wind = False, net = True)) \n",
    "print(vice.yields.ccsne.fractional('fe', study = \"S16/N20\", wind = False, net = False)) "
   ]
  },
  {
   "cell_type": "markdown",
   "metadata": {},
   "source": [
    "For a breakdown of all parameters allowed by this function, users should familiarize themselves with the documentation, available online here: https://vice-astro.readthedocs.io/en/latest/users_guide/pkgcontents/vice.yields.ccsne.fractional.html\n",
    "\n",
    "The ``vice.yields.ccsne`` module also provides the ``table`` function, which runs a simple lookup of the yield table reported by a given study. It takes keyword arguments similar to that of ``vice.yields.ccsne.fractional``. For example: "
   ]
  },
  {
   "cell_type": "code",
   "execution_count": 7,
   "metadata": {},
   "outputs": [
    {
     "name": "stdout",
     "output_type": "stream",
     "text": [
      "vice.dataframe{\n",
      "    13.0 -----------> 0.204957\n",
      "    15.0 -----------> 0.505658\n",
      "    20.0 -----------> 1.3048579999999999\n",
      "    25.0 -----------> 2.303057\n",
      "    30.0 -----------> 3.801041\n",
      "    40.0 -----------> 6.000364\n",
      "    60.0 -----------> 8.20037\n",
      "    80.0 -----------> 12.000356\n",
      "    120.0 ----------> 18.000428000000003\n",
      "}\n"
     ]
    }
   ],
   "source": [
    "table = vice.yields.ccsne.table('o', study = \"CL13\") \n",
    "print(table) "
   ]
  },
  {
   "cell_type": "markdown",
   "metadata": {},
   "source": [
    "This function returns an instance of the VICE ``dataframe``, a dictionary-like object it uses to store its internal data. All it's doing here is mapping the progenitor masses to their mass yields in $M_\\odot$: "
   ]
  },
  {
   "cell_type": "code",
   "execution_count": 8,
   "metadata": {},
   "outputs": [
    {
     "name": "stdout",
     "output_type": "stream",
     "text": [
      "0.204957\n",
      "3.801041\n"
     ]
    }
   ],
   "source": [
    "print(table[13]) \n",
    "print(table[30]) "
   ]
  },
  {
   "cell_type": "markdown",
   "metadata": {},
   "source": [
    "The masses themselves can be accessed without a print statement via its attribute: "
   ]
  },
  {
   "cell_type": "code",
   "execution_count": 9,
   "metadata": {},
   "outputs": [
    {
     "name": "stdout",
     "output_type": "stream",
     "text": [
      "(13.0, 15.0, 20.0, 25.0, 30.0, 40.0, 60.0, 80.0, 120.0)\n",
      "[0.204957, 0.505658, 1.3048579999999999, 2.303057, 3.801041, 6.000364, 8.20037, 12.000356, 18.000428000000003]\n"
     ]
    }
   ],
   "source": [
    "print(table.masses) \n",
    "print([table[i] for i in table.masses]) # the yields "
   ]
  },
  {
   "cell_type": "markdown",
   "metadata": {},
   "source": [
    "The ``vice.yields.ccsne.table`` function also allows the full isotopic breakdown of the yield to be returned as opposed to only the mass yields. Modifying our previous example: "
   ]
  },
  {
   "cell_type": "code",
   "execution_count": 10,
   "metadata": {},
   "outputs": [
    {
     "name": "stdout",
     "output_type": "stream",
     "text": [
      "vice.dataframe{\n",
      "    13 -------------> {'o16': 0.2, 'o17': 5.7e-05, 'o18': 0.0049}\n",
      "    15 -------------> {'o16': 0.5, 'o17': 5.8e-05, 'o18': 0.0056}\n",
      "    20 -------------> {'o16': 1.3, 'o17': 5.8e-05, 'o18': 0.0048}\n",
      "    25 -------------> {'o16': 2.3, 'o17': 5.7e-05, 'o18': 0.003}\n",
      "    30 -------------> {'o16': 3.8, 'o17': 6.1e-05, 'o18': 0.00098}\n",
      "    40 -------------> {'o16': 6.0, 'o17': 6.4e-05, 'o18': 0.0003}\n",
      "    60 -------------> {'o16': 8.2, 'o17': 0.00014, 'o18': 0.00023}\n",
      "    80 -------------> {'o16': 12.0, 'o17': 9.6e-05, 'o18': 0.00026}\n",
      "    120 ------------> {'o16': 18.0, 'o17': 9.8e-05, 'o18': 0.00033}\n",
      "}\n",
      "0.2\n",
      "0.00026\n",
      "vice.dataframe{\n",
      "    o16 ------------> 2.3\n",
      "    o17 ------------> 5.7e-05\n",
      "    o18 ------------> 0.003\n",
      "}\n"
     ]
    }
   ],
   "source": [
    "table = vice.yields.ccsne.table('o', study = \"CL13\", isotopic = True) \n",
    "print(table) \n",
    "print(table[13]['o16']) \n",
    "print(table[80]['o18']) \n",
    "print(table[table.masses[3]]) "
   ]
  },
  {
   "cell_type": "markdown",
   "metadata": {},
   "source": [
    "<a id=\"yield_calculations_snia\"></a> \n",
    "Type Ia Supernovae\n",
    "------------------\n",
    "Let's continue with some Type Ia supernova (SN Ia) calculations. VICE has built-in tables from the Iwamoto (1999) and Seitenzahl et al. (2013) studies, and can calculate IMF-averaged as well as single detonation yields. For example, the Fe yield from the W70 and WDD1 models from Iwamoto (1999) and the N20 and N150 models from Seitenzahl et al. (2013): "
   ]
  },
  {
   "cell_type": "code",
   "execution_count": 11,
   "metadata": {},
   "outputs": [
    {
     "name": "stdout",
     "output_type": "stream",
     "text": [
      "0.001705352\n",
      "0.001478026\n",
      "0.0019366021400000002\n",
      "0.0015531131\n"
     ]
    }
   ],
   "source": [
    "print(vice.yields.sneia.fractional('fe', study = \"iwamoto99\", model = \"W70\")) \n",
    "print(vice.yields.sneia.fractional('fe', study = \"iwamoto99\", model = \"WDD1\")) \n",
    "print(vice.yields.sneia.fractional('fe', study = \"seitenzahl13\", model = \"N20\")) \n",
    "print(vice.yields.sneia.fractional('fe', study = \"seitenzahl13\", model = \"N150\")) "
   ]
  },
  {
   "cell_type": "markdown",
   "metadata": {},
   "source": [
    "This function returns a single value with no numerical error, because the solution is analytic. The supernova study reports mass yields for single detonations, and the ``fractional`` function assumes 2.2e-3 SN Ia events per solar mass of star formation. This can be adjusted using the keyword argument ``n``: "
   ]
  },
  {
   "cell_type": "code",
   "execution_count": 12,
   "metadata": {},
   "outputs": [
    {
     "name": "stdout",
     "output_type": "stream",
     "text": [
      "0.0025825957080000002\n",
      "0.0035217214200000003\n",
      "0.0023478142800000003\n"
     ]
    }
   ],
   "source": [
    "print(vice.yields.sneia.fractional('fe')) \n",
    "print(vice.yields.sneia.fractional('fe', n = 3e-3)) \n",
    "print(vice.yields.sneia.fractional('fe', n = 2e-3)) "
   ]
  },
  {
   "cell_type": "markdown",
   "metadata": {},
   "source": [
    "Users can also lookup the mass yield of a single detonation under any available explosion model. The returned values are always in solar masses. The keyword arguments are otherwise the same, without the option to specify ``n``: "
   ]
  },
  {
   "cell_type": "code",
   "execution_count": 13,
   "metadata": {},
   "outputs": [
    {
     "name": "stdout",
     "output_type": "stream",
     "text": [
      "0.77516\n",
      "0.6718299999999999\n",
      "0.8802737\n",
      "0.7059605\n"
     ]
    }
   ],
   "source": [
    "print(vice.yields.sneia.single('fe', study = \"iwamoto99\", model = \"W70\")) \n",
    "print(vice.yields.sneia.single('fe', study = \"iwamoto99\", model = \"WDD1\")) \n",
    "print(vice.yields.sneia.single('fe', study = \"seitenzahl13\", model = \"N20\")) \n",
    "print(vice.yields.sneia.single('fe', study = \"seitenzahl13\", model = \"N150\")) "
   ]
  },
  {
   "cell_type": "markdown",
   "metadata": {},
   "source": [
    "<a id=\"yield_calculations_agb\"></a> \n",
    "Asymptotic Giant Branch Stars \n",
    "-----------------------------\n",
    "VICE stores built-in tables from the Cristallo et al. (2011) and Karakas (2010) asymptotic giant branch (AGB) star nucleosynthesis studies. They can be read in for a specific element directly via ``vice.yields.agb.grid``. The only keyword argument is accepts is the study (default: \"cristallo11\"), and it returns the yields, masses, and metallicities associated with their reported table. For example, their reported carbon (C) yields: "
   ]
  },
  {
   "cell_type": "code",
   "execution_count": 14,
   "metadata": {},
   "outputs": [
    {
     "name": "stdout",
     "output_type": "stream",
     "text": [
      "(1.3, 1.5, 2.0, 2.5, 3.0, 4.0, 5.0, 6.0)\n",
      "(0.0001, 0.0003, 0.001, 0.002, 0.003, 0.006, 0.008, 0.01, 0.014, 0.02)\n",
      "(0.00233122, 0.00206212, 0.00163226, 0.00150313, 0.000781408, 0.000406231, -5.03077e-05, -0.000150308, -0.000317615, -0.000422)\n",
      "(0.00550038, 0.00402732, 0.00326823, 0.00311003, 0.0021181, 0.00186327, 0.00110053, 0.001111, 0.0007376, 0.0003892)\n",
      "(1.0, 1.25, 1.5, 1.75, 1.9, 2.25, 2.5, 3.0, 3.5, 4.0, 4.5, 5.0, 5.5, 6.0)\n",
      "(0.0001, 0.004, 0.008, 0.02)\n",
      "(0.000250197, -3.861e-05, -6.944e-05, -0.0001502)\n",
      "(0.00297639, 5.8632e-05, -0.00015008, -0.0003392)\n"
     ]
    }
   ],
   "source": [
    "y1, m1, z1 = vice.yields.agb.grid(\"c\") \n",
    "y2, m2, z2 = vice.yields.agb.grid(\"c\", study = \"karakas10\") \n",
    "print(m1) \n",
    "print(z1) \n",
    "print(y1[0]) \n",
    "print(y1[1]) \n",
    "print(m2) \n",
    "print(z2) \n",
    "print(y2[0]) \n",
    "print(y2[1]) "
   ]
  },
  {
   "cell_type": "markdown",
   "metadata": {},
   "source": [
    "The yields are returned in a 2-D tuple, with stellar mass as the first axis of indexing and metallicity the second. For example, the metallicity at the lowest mass but third lowest metallicity would be found at ``y[0][2]``. As with the SN Ia and CCSN yields, these are *fractional* yields in that the absolute yield in solar masses is given by these values multiplied by progenitor mass (e.g. ``m[0] * y[0][2]``). \n",
    "\n",
    "<a id=\"yield_calculations_globals\"></a> \n",
    "The Global Yield Settings \n",
    "-------------------------\n",
    "Within the ``yields`` modules, users should declare the values that will adopt in one-zone and multi-zone models. Each module stores a ``settings`` object containing each recognized element's current yield. For example, the current CCSN, SN Ia, and AGB yields of C, Fe, and oxygen (O): "
   ]
  },
  {
   "cell_type": "code",
   "execution_count": 15,
   "metadata": {},
   "outputs": [
    {
     "name": "stdout",
     "output_type": "stream",
     "text": [
      "0.00236\n",
      "0.000246\n",
      "0.00564\n",
      "5.74e-06\n",
      "0.00258\n",
      "5.79e-05\n",
      "cristallo11\n",
      "cristallo11\n",
      "cristallo11\n"
     ]
    }
   ],
   "source": [
    "print(vice.yields.ccsne.settings['c']) \n",
    "print(vice.yields.ccsne.settings['fe']) \n",
    "print(vice.yields.ccsne.settings['o']) \n",
    "print(vice.yields.sneia.settings['c']) \n",
    "print(vice.yields.sneia.settings['fe']) \n",
    "print(vice.yields.sneia.settings['o']) \n",
    "print(vice.yields.agb.settings['c']) \n",
    "print(vice.yields.agb.settings['fe']) \n",
    "print(vice.yields.agb.settings['o']) "
   ]
  },
  {
   "cell_type": "markdown",
   "metadata": {},
   "source": [
    "The string \"cristallo11\" in the AGB yield settings means VICE will adopt the Cristallo et al. (2011) yields sampled on a table of masses and metallicities, linearly interpolating between table elements. Users may modify these values directly, even constructing functions of metallicity to describe supernova yields. In the case of AGB star yields, functions accepting progenitor mass and metallicity (in that order) can be constructed as well. For example: "
   ]
  },
  {
   "cell_type": "code",
   "execution_count": 16,
   "metadata": {},
   "outputs": [
    {
     "name": "stdout",
     "output_type": "stream",
     "text": [
      "0.002\n",
      "0.0005\n",
      "<function zdep_ccsn_yield at 0x7fa2c85863b0>\n",
      "<function zdep_snia_yield at 0x7fa2c8586290>\n",
      "<function custom_agb_yield at 0x7fa2c85860e0>\n"
     ]
    }
   ],
   "source": [
    "def zdep_ccsn_yield(z): \n",
    "    r\"\"\" \n",
    "    The metallicity must be the abundance by mass, Z = M_z / M_\\star. \n",
    "    \"\"\" \n",
    "    return 0.001 * (z / 0.014) # some simple function form for demonstration purposes \n",
    "def zdep_snia_yield(z): \n",
    "    return 2.e-5 * (z / 0.02) \n",
    "def custom_agb_yield(mass, z): \n",
    "    return mass / 100 * (z / 0.014)**2 \n",
    "\n",
    "vice.yields.ccsne.settings['c'] = 0.002 \n",
    "vice.yields.sneia.settings['c'] = 0.0005 \n",
    "print(vice.yields.ccsne.settings['c']) \n",
    "print(vice.yields.sneia.settings['c']) \n",
    "vice.yields.ccsne.settings['c'] = zdep_ccsn_yield \n",
    "vice.yields.sneia.settings['c'] = zdep_snia_yield \n",
    "vice.yields.agb.settings['c'] = custom_agb_yield \n",
    "print(vice.yields.ccsne.settings['c']) \n",
    "print(vice.yields.sneia.settings['c']) \n",
    "print(vice.yields.agb.settings['c'])"
   ]
  },
  {
   "cell_type": "markdown",
   "metadata": {},
   "source": [
    "VICE will adopt the current global yield settings when one-zone and multi-zone models are ran. Although it includes this functionality with which to calculate yields, users are not restricted to any of the values reported by the ``yields`` module. It is there to help, but users may exercise their own discretion over their yields in their chemical evolution models. \n",
    "\n",
    "<a id=\"yield_calculations_presets\"></a> \n",
    "Yield Presets \n",
    "-------------\n",
    "Although VICE does not restrict users to any given set of nucleosynthetic yields, they are able to if they so choose by simply importing built-in modules, as well as saving their own custom yield sets. For example, the global yield settings can be modified to reflect the Nomoto, Kobayashi & Tominaga (2013) by importing the ``NKT13`` module from ``vice.yields.ccsne``. The same can be done for the ``sneia`` and ``agb`` models as well. "
   ]
  },
  {
   "cell_type": "code",
   "execution_count": 17,
   "metadata": {},
   "outputs": [
    {
     "name": "stdout",
     "output_type": "stream",
     "text": [
      "<function zdep_ccsn_yield at 0x7fa2c85863b0>\n",
      "<function zdep_snia_yield at 0x7fa2c8586290>\n",
      "<function custom_agb_yield at 0x7fa2c85860e0>\n",
      "0.0010140707812355703\n",
      "5.7420404800000006e-06\n",
      "karakas10\n"
     ]
    }
   ],
   "source": [
    "print(vice.yields.ccsne.settings['c']) \n",
    "print(vice.yields.sneia.settings['c']) \n",
    "print(vice.yields.agb.settings['c']) \n",
    "from vice.yields.ccsne import NKT13 \n",
    "from vice.yields.sneia import seitenzahl13 \n",
    "from vice.yields.agb import karakas10 \n",
    "print(vice.yields.ccsne.settings['c']) \n",
    "print(vice.yields.sneia.settings['c']) \n",
    "print(vice.yields.agb.settings['c']) "
   ]
  },
  {
   "cell_type": "markdown",
   "metadata": {},
   "source": [
    "The yields for all elements can be updated easily by calling the ``set_params`` function of each imported module and passing the same keyword arguments that would be given to ``vice.yields.ccsne.fractional`` and ``vice.yields.sneia.fractional``. For example, updating the NKT13 yields to adopt the W18 black hole landscape from Sukhbold et al. (2016), and switching to the N40 model from Seitenzahl et al. (2013): "
   ]
  },
  {
   "cell_type": "code",
   "execution_count": 18,
   "metadata": {},
   "outputs": [
    {
     "name": "stdout",
     "output_type": "stream",
     "text": [
      "0.000580575984119377\n",
      "8.58004796e-06\n"
     ]
    }
   ],
   "source": [
    "# MoverH = 0.15 simply because NKT13 doesn't report yields at *exactly* solar metallicity \n",
    "NKT13.set_params(explodability = vice.yields.ccsne.engines.S16.W18, MoverH = 0.15) \n",
    "seitenzahl13.set_params(model = \"N40\") \n",
    "print(vice.yields.ccsne.settings['c']) \n",
    "print(vice.yields.sneia.settings['c']) "
   ]
  },
  {
   "cell_type": "markdown",
   "metadata": {},
   "source": [
    "Users may also construct their own ``.py`` files containing their declared yields and save them within VICE, making them available through the ``vice.yields.presets`` module. For example, calling ``vice.yields.presets.save(\"example.py\")`` will make the file ``example.py`` accessible via ``from vice.yields.presets import example``. VICE provides the default oxygen, iron, and strontium yields from the Johnson & Weinberg (2020) paper at ``vice.yields.presets.JW20`` as a built-in. Presets can be removed from this functionality by calling ``vice.yields.presets.remove`` and again passing the name of the ``.py`` file. \n",
    "\n",
    "At any given time, the installed presets can also be viewed by calling ``vice.yields.presets.remove`` with a dummy, non-existent file name, deliberately generating an error message which will tell the user which presets they've installed: "
   ]
  },
  {
   "cell_type": "code",
   "execution_count": 19,
   "metadata": {},
   "outputs": [
    {
     "name": "stdout",
     "output_type": "stream",
     "text": [
      "Preset yield module not found: foo.py. Currently installed presets: \n",
      "\t\tJW20.py\n"
     ]
    }
   ],
   "source": [
    "try: \n",
    "    vice.yields.presets.remove(\"foo\") \n",
    "except Exception as exc: \n",
    "    print(exc) "
   ]
  },
  {
   "cell_type": "markdown",
   "metadata": {},
   "source": [
    "If you're going through this tutorial and have only just installed VICE, the ``JW20.py`` file containing the ``JW20`` yields will be the only available preset. Users who intend to make use of this functionality should be aware that the ``vice.yields.presets.remove`` function will stop and ask for confirmation that they'd like a file removed from their system; this can be pre-approved by adding the keyword argument ``force = True``. \n",
    "\n",
    "**Note**: On some operating systems, the ``vice.yields.presets.save`` and ``vice.yields.presets.remove`` function requires admin privileges. If you are not allowed to run processes as ``root`` on your machine, we can't guarantee that your environment will allow this functionality. "
   ]
  },
  {
   "cell_type": "markdown",
   "metadata": {},
   "source": [
    "<a id=\"ssps\"></a>\n",
    "Single Stellar Populations \n",
    "--------------------------\n",
    "Contrary to the one-zone chemical evolution models which model enrichment from many stellar populations, sometimes it's of scientific interest to think about what enrichment as a function of time looks like from only one. To fulfill this purpose, VICE provides the ``single_stellar_population`` function. Its usage is straight-forward: give it an element, and keyword arguments specifying the mass of the star cluster, its metallicity, how much time to calculate enrichment for, and other parameters like the initial mass function and Type Ia supernova delay-time distribution, and it will return the net mass produced of the element and the times at which those mass yields were calculated. "
   ]
  },
  {
   "cell_type": "code",
   "execution_count": 20,
   "metadata": {},
   "outputs": [
    {
     "name": "stdout",
     "output_type": "stream",
     "text": [
      "A 10^4 Msun star cluster at Z = 0.01 produced 1.91e+01 Msun of iron after 10 Gyr.\n",
      "A 10^4 Msun star cluster at Z = 0.007 produced 2.52e-04 Msun of strontium after 8.5 Gyr.\n"
     ]
    }
   ],
   "source": [
    "fe, time = vice.single_stellar_population('fe', mstar = 1e4, Z = 0.01, time = 10) \n",
    "print(\"A 10^4 Msun star cluster at Z = 0.01 produced %.2e Msun of iron after 10 Gyr.\" % (fe[-1])) \n",
    "sr, time = vice.single_stellar_population('sr', mstar = 1e4, Z = 0.007, time = 8.5) \n",
    "print(\"A 10^4 Msun star cluster at Z = 0.007 produced %.2e Msun of strontium after 8.5 Gyr.\" % (sr[-1])) "
   ]
  },
  {
   "cell_type": "markdown",
   "metadata": {},
   "source": [
    "<a id=\"onezonemodels\"></a> \n",
    "One-Zone Models \n",
    "---------------\n",
    "VICE provides the ``singlezone`` class, an object which is explicitly designed to run one-zone models of galactic chemical evolution. The attributes of the class encode the evolutionary parameters the user wishes to build into their model. Each attribute can be initialized as a keyword argument upon creation of a ``singlezone`` object, or by modifying the current state of some attribute afterward. "
   ]
  },
  {
   "cell_type": "code",
   "execution_count": 21,
   "metadata": {},
   "outputs": [
    {
     "name": "stdout",
     "output_type": "stream",
     "text": [
      "vice.singlezone{\n",
      "    name -----------> example\n",
      "    func -----------> <function _DEFAULT_FUNC_ at 0x7fa2682dc4d0>\n",
      "    mode -----------> ifr\n",
      "    verbose --------> False\n",
      "    elements -------> ('fe', 'sr', 'o')\n",
      "    IMF ------------> kroupa\n",
      "    eta ------------> 2.5\n",
      "    enhancement ----> 1.0\n",
      "    entrainment ----> <entrainment settings>\n",
      "    Zin ------------> 0.0\n",
      "    recycling ------> continuous\n",
      "    delay ----------> 0.15\n",
      "    RIa ------------> plaw\n",
      "    Mg0 ------------> 6000000000.0\n",
      "    smoothing ------> 0.0\n",
      "    tau_ia ---------> 1.5\n",
      "    tau_star -------> 2.0\n",
      "    schmidt --------> False\n",
      "    schmidt_index --> 0.5\n",
      "    MgSchmidt ------> 6000000000.0\n",
      "    dt -------------> 0.01\n",
      "    m_upper --------> 100.0\n",
      "    m_lower --------> 0.08\n",
      "    postMS ---------> 0.1\n",
      "    Z_solar --------> 0.014\n",
      "    bins -----------> [-3, -2.95, -2.9, ... , 0.9, 0.95, 1]\n",
      "}\n"
     ]
    }
   ],
   "source": [
    "example = vice.singlezone(name = \"example\") # alternatively, sz = vice.singlezone(), then sz.name = \"example\" \n",
    "print(example) "
   ]
  },
  {
   "cell_type": "markdown",
   "metadata": {},
   "source": [
    "The following table provides first-time users with a quick breakdown of which attributes provide VICE with which component of the chemical evolution model: \n",
    "\n",
    "| Attribute  | Description | \n",
    "| --- | --- |  \n",
    "| name | The full or relative path to the directory at which to store an output. VICE will add a \".vice\" extension, but will leave the output as a directory. | \n",
    "| func | A function of time in Gyr. The interpretation is set by the attribute \"mode\". | \n",
    "| mode | The interpretation of the attribute \"func\". \"sfr\": it returns the star formation rate in $M_\\odot$/yr. \"ifr\": it returns the infall rate in $M_\\odot$/yr. \"gas\": it returns the mass of the ISM in $M_\\odot$. Although infall and star formation rates are interpreted in units of $M_\\odot$/yr, the function must accept time in Gyr as the only parameter. | \n",
    "| verbose | If ``True``, VICE will print output to the console as it runs the model. | \n",
    "| elements | The chemical elements to calculate abundances for, as their symbols appear on the periodic table. | \n",
    "| IMF | The stellar initial mass function to adopt. \"kroupa\" and \"salpeter\" denote built-in IMFs, but users may also use functions of mass in $M_\\odot$. | \n",
    "| eta | The mass loading factor $\\eta$ describing the ratio of outflow to star formation rates $\\dot{M}_\\text{out} / \\dot{M}_\\star$. Can be either a number or a function of time in Gyr. | \n",
    "| enhancement | The multiplicative factor by which the outflow metallicity by mass $Z$ is above (or below) that of the interstellar medium. | \n",
    "| entrainment | For each element and enrichment channel, the fraction of nucleosynthetic yields which are mixed with the interstellar medium, the remainder of which is added directly to outflows. | \n",
    "| Zin | The inflow metallicity. Can be a number, a function of time in Gyr, or an element-by-element breakdown with numbers or functions of time in Gyr for each. | \n",
    "| recycling | The prescription for returning stellar envelopes to the interstellar medium at their birth abundance. If not \"continuous\", must be a number between 0 and 1 for an instaneous return fraction (see Weinberg et al. 2017, ApJ, 837, 183). | \n",
    "| delay | The time interval between a single stellar population's formation and the onset of Type Ia supernovae associated with that stellar population, in Gyr. | \n",
    "| RIa | The delay-time distribution of Type Ia supernovae. \"exp\" and \"plaw\" denote built-in types. Functions will be interpreted as customized values, and must take time in Gyr as the only parameter. These need not be normalized in any way or even take into account the attribute ``delay``, as VICE will do that automatically. | \n",
    "| Mg0 | The initial gas mass of the model. Only necessary when ``mode == \"ifr\"``. | \n",
    "| smoothing | The outflow smoothing timescale $\\tau_\\text{s}$ (see Johnson & Weinberg 2020, MNRAS, 498, 1364). | \n",
    "| tau_ia | The e-folding timescale of the SN Ia DTD when ``RIa == \"exp\"``. | \n",
    "| tau_star | The timescale relating the gas mass to the star formation rate ($M_\\text{gas} / \\dot{M}_\\star$) in Gyr. Can be a number or a function of time in Gyr. If it accepts a second parameter, VICE will interpret that as the gas mass when ``mode == \"ifr\"`` or ``\"gas\"``, and as the star formation rate when ``mode == \"sfr\"``. | \n",
    "| schmidt | Whether or not VICE should scale the attribute ``tau_star`` with the gas supply via a power-law; this is an extension of the Kennicutt-Schmidt relation to one-zone models. Irrelevant when the attribute ``tau_star`` is a function accepting two parameters. | \n",
    "| schmidt_index | The power-law index to adopt when the attribute ``schmidt == True``. | \n",
    "| MgSchmidt | The mass in $M_\\odot$ to normalize the gas mass by when the attribute ``schmidt == True``. | \n",
    "| dt | Timestep size in Gyr. | \n",
    "| m_upper | The upper mass limit of star formation in $M_\\odot$/yr. | \n",
    "| m_lower | The lower mass limit of star formation in $M_\\odot$/yr. | \n",
    "| postMS | The ratio of post main-sequence lifetimes to main sequence lifetimes. | \n",
    "| Z_solar | The adopted metallicity by mass of the sun. Only relevant in calculating metallicity-dependent yields. | \n",
    "| bins | Bins in [X/H] and [X/Y] abundance ratios within which to calculate metallicity distribution functions. | \n",
    "\n",
    "We strongly encourage users to familiarize themselves with the ``singlezone`` object's documentation, available online at: https://vice-astro.readthedocs.io/en/latest/users_guide/pkgcontents/vice.singlezone.html. Each individual attribute is discussed in greater detail there. \n",
    "\n",
    "Let's take our example one-zone model and run it! For the sake of this demonstration, we'll use the Johnson & Weinberg (2020) oxygen, iron, and strontium yields. To run the model, all that's required is a list of times in Gyr at which VICE should record output. "
   ]
  },
  {
   "cell_type": "code",
   "execution_count": 22,
   "metadata": {},
   "outputs": [],
   "source": [
    "from vice.yields.presets import JW20 \n",
    "example.run(np.linspace(0, 10, 1001)) "
   ]
  },
  {
   "cell_type": "markdown",
   "metadata": {},
   "source": [
    "And that's it! Calling the ``run`` function always produces the output files in the \".vice\" output directory. For example, looking at the contents of our current directory now: "
   ]
  },
  {
   "cell_type": "code",
   "execution_count": 23,
   "metadata": {},
   "outputs": [
    {
     "data": {
      "text/plain": [
       "['QuickStartTutorial.ipynb',\n",
       " 'yield_import.py',\n",
       " 'onezonemodel.vice',\n",
       " 'Makefile',\n",
       " 'yields.py',\n",
       " 'milkyway.vice',\n",
       " '.ipynb_checkpoints',\n",
       " 'README.rst',\n",
       " 'example.vice',\n",
       " 'generate_functions.py']"
      ]
     },
     "execution_count": 23,
     "metadata": {},
     "output_type": "execute_result"
    }
   ],
   "source": [
    "import os \n",
    "os.listdir('.') "
   ]
  },
  {
   "cell_type": "markdown",
   "metadata": {},
   "source": [
    "<a id=\"onezonemodels_outputs\"></a> \n",
    "One-Zone Model Outputs \n",
    "----------------------\n",
    "Users should be aware that the ``run`` function will stop and ask permission to overwrite existing files if it finds them. Permission can be given ahead of time by specifying ``overwrite = True`` when calling ``run`` to prevent their code from pausing. \n",
    "\n",
    "Now that a simulation of the model has been ran, the output can be read-in easily using the ``vice.history`` and ``vice.mdf`` functions. \n",
    "\n",
    "The ``history`` and ``mdf`` functions return instances of the VICE ``dataframe``, an object which users should interact with in much the same way as the native python ``dict`` type. If you've been playing around with the ``yields`` module, you may have noticed that the global yield settings are of type ``dataframe`` as well. "
   ]
  },
  {
   "cell_type": "code",
   "execution_count": 24,
   "metadata": {},
   "outputs": [
    {
     "name": "stdout",
     "output_type": "stream",
     "text": [
      "vice.dataframe{\n",
      "    time -----------> [0, 0.01, 0.02, ... , 9.98, 9.99, 10]\n",
      "    mgas -----------> [6e+09, 5.99204e+09, 5.98482e+09, ... , 5.92645e+09, 5.92651e+09, 5.92658e+09]\n",
      "    mstar ----------> [0, 2.39615e+07, 4.72754e+07, ... , 1.76402e+10, 1.76571e+10, 1.76739e+10]\n",
      "    sfr ------------> [3, 2.99602, 2.99241, ... , 2.96322, 2.96326, 2.96329]\n",
      "    ifr ------------> [9.1, 9.1, 9.1, ... , 9.1, 9.1, 9.1]\n",
      "    ofr ------------> [-3.10504e+224, 7.49005, 7.48103, ... , 7.40806, 7.40814, 7.40822]\n",
      "    eta_0 ----------> [2.5, 2.5, 2.5, ... , 2.5, 2.5, 2.5]\n",
      "    r_eff ----------> [0.201283, 0.221837, 0.234302, ... , 0.431261, 0.431293, 0.431324]\n",
      "    z_in(fe) -------> [0, 0, 0, ... , 0, 0, 0]\n",
      "    z_in(sr) -------> [0, 0, 0, ... , 0, 0, 0]\n",
      "    z_in(o) --------> [0, 0, 0, ... , 0, 0, 0]\n",
      "    z_out(fe) ------> [-0, 5.89538e-06, 1.17008e-05, ... , 0.000879188, 0.000879303, 0.000879419]\n",
      "    z_out(sr) ------> [-6.80131e-284, 1.71948e-10, 3.4055e-10, ... , 2.44194e-08, 2.44185e-08, 2.44176e-08]\n",
      "    z_out(o) -------> [1, 7.36922e-05, 0.000146246, ... , 0.00478063, 0.00478069, 0.00478075]\n",
      "    mass(fe) -------> [0, 35325.3, 70027.1, ... , 5.21046e+06, 5.2112e+06, 5.21195e+06]\n",
      "    mass(sr) -------> [0, 1.03032, 2.03813, ... , 144.72, 144.716, 144.713]\n",
      "    mass(o) --------> [0, 441566, 875257, ... , 2.83321e+07, 2.83328e+07, 2.83335e+07]\n",
      "    z(fe) ----------> [0, 5.89537e-06, 1.17008e-05, ... , 0.000879188, 0.000879303, 0.000879419]\n",
      "    z(sr) ----------> [0, 1.71949e-10, 3.4055e-10, ... , 2.44194e-08, 2.44185e-08, 2.44176e-08]\n",
      "    z(o) -----------> [0, 7.36922e-05, 0.000146246, ... , 0.00478063, 0.00478069, 0.00478075]\n",
      "    [fe/h] ---------> [-inf, -2.34008, -2.04238, ... , -0.166508, -0.166451, -0.166394]\n",
      "    [sr/h] ---------> [-inf, -2.44038, -2.1436, ... , -0.288043, -0.28806, -0.288076]\n",
      "    [o/h] ----------> [-inf, -1.88997, -1.59231, ... , -0.0779112, -0.0779056, -0.0779001]\n",
      "    [sr/fe] --------> [nan, -0.100302, -0.101223, ... , -0.121535, -0.121609, -0.121682]\n",
      "    [o/fe] ---------> [nan, 0.450104, 0.450063, ... , 0.0885969, 0.0885453, 0.0884938]\n",
      "    [o/sr] ---------> [nan, 0.550405, 0.551286, ... , 0.210132, 0.210154, 0.210176]\n",
      "    z --------------> [0, 0.000158947, 0.000315442, ... , 0.0113035, 0.0113038, 0.0113042]\n",
      "    [m/h] ----------> [-inf, -1.94487, -1.64721, ... , -0.0929169, -0.0929033, -0.0928898]\n",
      "    lookback -------> [10, 9.99, 9.98, ... , 0.02, 0.01, 0]\n",
      "}\n",
      "vice.dataframe{\n",
      "    bin_edge_left --> [-3, -2.95, -2.9, ... , 0.85, 0.9, 0.95]\n",
      "    bin_edge_right -> [-2.95, -2.9, -2.85, ... , 0.9, 0.95, 1]\n",
      "    dn/d[fe/h] -----> [0, 0, 0, ... , 0, 0, 0]\n",
      "    dn/d[sr/h] -----> [0, 0, 0, ... , 0, 0, 0]\n",
      "    dn/d[o/h] ------> [0, 0, 0, ... , 0, 0, 0]\n",
      "    dn/d[sr/fe] ----> [0, 0, 0, ... , 0, 0, 0]\n",
      "    dn/d[o/fe] -----> [0, 0, 0, ... , 0, 0, 0]\n",
      "    dn/d[o/sr] -----> [0, 0, 0, ... , 0, 0, 0]\n",
      "}\n"
     ]
    }
   ],
   "source": [
    "history = vice.history(\"example\") \n",
    "mdf = vice.mdf(\"example\") \n",
    "print(history) \n",
    "print(mdf) "
   ]
  },
  {
   "cell_type": "markdown",
   "metadata": {},
   "source": [
    "In the ``history`` object, each key maps to a quantity recorded in the output. They are intended to have intuitive names, but below is a table with a brief description of each in case any one of them isn't immediately obvious: \n",
    "\n",
    "| Key | Description | \n",
    "| --- | --- | \n",
    "| time | Simulation time in Gyr. | \n",
    "| mgas | Interstellar medium mass in $M_\\odot$. | \n",
    "| mstar | Stellar mass in $M_\\odot$. | \n",
    "| sfr | Star formation rate in $M_\\odot$/yr. | \n",
    "| ifr | Infall rate in $M_\\odot$/yr. | \n",
    "| ofr | Outflow rate in $M_\\odot$/yr. | \n",
    "| eta_0 | The value of the mass loading factor $\\eta$ at that time, before the outflow rate is modified to take into account smoothing time, if non-zero. | \n",
    "| r_eff | The rate of return of stellar envelopes at their birth metallicity, in units of the star formation rate. | \n",
    "| z_in(x) | The infow metallicity by mass of some element x $\\dot{M}_\\text{in,x} / \\dot{M}_\\text{in}$. | \n",
    "| z_out(x) | The outflow metallicity by mass of some element x $\\dot{M}_\\text{out,x} / \\dot{M}_\\text{out}$. | \n",
    "| mass(x) | The mass of some elements x in the interstellar medium at all times in $M_\\odot$. | \n",
    "| z(x) | The abundance by mass of some element x in the interstellar medium at all times $M_\\text{x} / M_\\text{ISM}$. | \n",
    "| [x/h] | The logarithmic abundance measure relative to the sun of some of element x. | \n",
    "| [x/y] | The logarithmic abundance ratio relative to the sun of some element x to some element y. | \n",
    "| z | The total abundance by mass $Z = M_Z / M_\\text{ISM}$, scaled according to the adopted solar metallicity of the model and the abundances of the elements present in the simulation. | \n",
    "| [m/h] | $\\log_{10}(Z / Z_\\odot) | \n",
    "| lookback | Lookback time in Gyr. | \n",
    "\n",
    "And the following is the same for the MDF object: \n",
    "\n",
    "| Key | Description | \n",
    "| --- | --- | \n",
    "| bin_edge_left | The lesser of the two edges defining a bin in abundance. | \n",
    "| bin_edge_right | The greater of the two edges defining a bin in abundance. | \n",
    "| dn/d[x/h] | The value of the distribution at an abundance of [x/h] for some element x. | \n",
    "| dn/d[x/y] | The value of the distribution at an abundance ratio of [x/y] for some elements x and y. | \n",
    "\n",
    "Each of these objects can be indexed with one of these keys. Alternatively, they can also be indexed with an integer, and VICE will return each individual key's value at that line of output. For example: "
   ]
  },
  {
   "cell_type": "code",
   "execution_count": 25,
   "metadata": {},
   "outputs": [
    {
     "name": "stdout",
     "output_type": "stream",
     "text": [
      "[-0.1669107184752375, -0.16685297393131976, -0.16679532177997983, -0.16673776198257292, -0.16668022121730697, -0.16662284601293928, -0.1665654796845228, -0.16650813229926847, -0.1664509604398255, -0.1663938706578942]\n",
      "[0.0, 0.0, 0.0, 0.0, 0.0, 0.0, 0.0, 0.0, 0.0, 0.0]\n",
      "vice.dataframe{\n",
      "    time -----------> 9.91\n",
      "    mgas -----------> 5925980000.0\n",
      "    mstar ----------> 17522220000.0\n",
      "    sfr ------------> 2.96299\n",
      "    ifr ------------> 9.1\n",
      "    ofr ------------> 7.407475\n",
      "    eta_0 ----------> 2.5\n",
      "    r_eff ----------> 0.4310379\n",
      "    z_in(fe) -------> 0.0\n",
      "    z_in(sr) -------> 0.0\n",
      "    z_in(o) --------> 0.0\n",
      "    z_out(fe) ------> 0.000878373\n",
      "    z_out(sr) ------> 2.442578e-08\n",
      "    z_out(o) -------> 0.004780198\n",
      "    mass(fe) -------> 5205221.0\n",
      "    mass(sr) -------> 144.7467\n",
      "    mass(o) --------> 28327360.0\n",
      "    z(fe) ----------> 0.0008783730285961141\n",
      "    z(sr) ----------> 2.44257827397325e-08\n",
      "    z(o) -----------> 0.004780198380689776\n",
      "    [fe/h] ---------> -0.1669107184752375\n",
      "    [sr/h] ---------> -0.2879298518175735\n",
      "    [o/h] ----------> -0.07795010836268162\n",
      "    [sr/fe] --------> -0.12101913334233602\n",
      "    [o/fe] ---------> 0.08896061011255588\n",
      "    [o/sr] ---------> 0.2099797434548919\n",
      "    z --------------> 0.0113009709022739\n",
      "    [m/h] ----------> -0.0930122789747708\n",
      "    lookback -------> 0.08999999999999986\n",
      "}\n",
      "vice.dataframe{\n",
      "    bin_edge_left --> 0.5\n",
      "    bin_edge_right -> 0.55\n",
      "    dn/d[fe/h] -----> 0.0\n",
      "    dn/d[sr/h] -----> 0.0\n",
      "    dn/d[o/h] ------> 0.0\n",
      "    dn/d[sr/fe] ----> 0.0\n",
      "    dn/d[o/fe] -----> 0.0\n",
      "    dn/d[o/sr] -----> 1.572205\n",
      "}\n"
     ]
    }
   ],
   "source": [
    "print(history[\"[fe/h]\"][-10:]) \n",
    "print(mdf[\"dn/d[o/fe]\"][70:80]) \n",
    "print(history[-10]) \n",
    "print(mdf[70]) "
   ]
  },
  {
   "cell_type": "markdown",
   "metadata": {},
   "source": [
    "Although the ``history`` objects show specific [X/Y] abundance ratios in their keys, it responds accordingly when any given ratio is passed. For example: "
   ]
  },
  {
   "cell_type": "code",
   "execution_count": 26,
   "metadata": {},
   "outputs": [
    {
     "name": "stdout",
     "output_type": "stream",
     "text": [
      "0.08896061011255588\n",
      "-0.08896061011255588\n"
     ]
    }
   ],
   "source": [
    "print(history[\"[o/fe]\"][-10]) \n",
    "print(history[\"[fe/o]\"][-10]) "
   ]
  },
  {
   "cell_type": "markdown",
   "metadata": {},
   "source": [
    "Unfortunately the same behavior is not supported in the MDF objects as inverting the ratio also affects the bin the abundance ratio would appear in, but abundance ratios of inverse distributions can be calculated by simply reversing the order of the distribution and taking the negative of each bin's edges. VICE will compute the distribution in [X/Y] if the element X appears *after* the element Y in the ``singlezone`` object's ``elements`` attribute. In our example case, the distribution is computed in [Sr/Fe], [O/Fe], and [O/Sr] because the attribute was ordered iron, then strontium, then oxygen. With this in mind, the elements that users intend on using as \"reference elements\" should appear early in their ``elements`` attributes. "
   ]
  },
  {
   "cell_type": "markdown",
   "metadata": {},
   "source": [
    "As an alternative to the ``vice.history`` and ``vice.mdf`` is ``vice.output``, which also only requires the name of the output. This is an object which fulfills the functionality of the ``history`` and ``mdf`` objects, as well as retaining memory of the adopted nucleosynthetic yields when possible: "
   ]
  },
  {
   "cell_type": "code",
   "execution_count": 27,
   "metadata": {},
   "outputs": [
    {
     "name": "stdout",
     "output_type": "stream",
     "text": [
      "vice.dataframe{\n",
      "    time -----------> [0, 0.01, 0.02, ... , 9.98, 9.99, 10]\n",
      "    mgas -----------> [6e+09, 5.99204e+09, 5.98482e+09, ... , 5.92645e+09, 5.92651e+09, 5.92658e+09]\n",
      "    mstar ----------> [0, 2.39615e+07, 4.72754e+07, ... , 1.76402e+10, 1.76571e+10, 1.76739e+10]\n",
      "    sfr ------------> [3, 2.99602, 2.99241, ... , 2.96322, 2.96326, 2.96329]\n",
      "    ifr ------------> [9.1, 9.1, 9.1, ... , 9.1, 9.1, 9.1]\n",
      "    ofr ------------> [-3.10504e+224, 7.49005, 7.48103, ... , 7.40806, 7.40814, 7.40822]\n",
      "    eta_0 ----------> [2.5, 2.5, 2.5, ... , 2.5, 2.5, 2.5]\n",
      "    r_eff ----------> [0.201283, 0.221837, 0.234302, ... , 0.431261, 0.431293, 0.431324]\n",
      "    z_in(fe) -------> [0, 0, 0, ... , 0, 0, 0]\n",
      "    z_in(sr) -------> [0, 0, 0, ... , 0, 0, 0]\n",
      "    z_in(o) --------> [0, 0, 0, ... , 0, 0, 0]\n",
      "    z_out(fe) ------> [-0, 5.89538e-06, 1.17008e-05, ... , 0.000879188, 0.000879303, 0.000879419]\n",
      "    z_out(sr) ------> [-6.80131e-284, 1.71948e-10, 3.4055e-10, ... , 2.44194e-08, 2.44185e-08, 2.44176e-08]\n",
      "    z_out(o) -------> [1, 7.36922e-05, 0.000146246, ... , 0.00478063, 0.00478069, 0.00478075]\n",
      "    mass(fe) -------> [0, 35325.3, 70027.1, ... , 5.21046e+06, 5.2112e+06, 5.21195e+06]\n",
      "    mass(sr) -------> [0, 1.03032, 2.03813, ... , 144.72, 144.716, 144.713]\n",
      "    mass(o) --------> [0, 441566, 875257, ... , 2.83321e+07, 2.83328e+07, 2.83335e+07]\n",
      "    z(fe) ----------> [0, 5.89537e-06, 1.17008e-05, ... , 0.000879188, 0.000879303, 0.000879419]\n",
      "    z(sr) ----------> [0, 1.71949e-10, 3.4055e-10, ... , 2.44194e-08, 2.44185e-08, 2.44176e-08]\n",
      "    z(o) -----------> [0, 7.36922e-05, 0.000146246, ... , 0.00478063, 0.00478069, 0.00478075]\n",
      "    [fe/h] ---------> [-inf, -2.34008, -2.04238, ... , -0.166508, -0.166451, -0.166394]\n",
      "    [sr/h] ---------> [-inf, -2.44038, -2.1436, ... , -0.288043, -0.28806, -0.288076]\n",
      "    [o/h] ----------> [-inf, -1.88997, -1.59231, ... , -0.0779112, -0.0779056, -0.0779001]\n",
      "    [sr/fe] --------> [nan, -0.100302, -0.101223, ... , -0.121535, -0.121609, -0.121682]\n",
      "    [o/fe] ---------> [nan, 0.450104, 0.450063, ... , 0.0885969, 0.0885453, 0.0884938]\n",
      "    [o/sr] ---------> [nan, 0.550405, 0.551286, ... , 0.210132, 0.210154, 0.210176]\n",
      "    z --------------> [0, 0.000158947, 0.000315442, ... , 0.0113035, 0.0113038, 0.0113042]\n",
      "    [m/h] ----------> [-inf, -1.94487, -1.64721, ... , -0.0929169, -0.0929033, -0.0928898]\n",
      "    lookback -------> [10, 9.99, 9.98, ... , 0.02, 0.01, 0]\n",
      "}\n",
      "vice.dataframe{\n",
      "    bin_edge_left --> [-3, -2.95, -2.9, ... , 0.85, 0.9, 0.95]\n",
      "    bin_edge_right -> [-2.95, -2.9, -2.85, ... , 0.9, 0.95, 1]\n",
      "    dn/d[fe/h] -----> [0, 0, 0, ... , 0, 0, 0]\n",
      "    dn/d[sr/h] -----> [0, 0, 0, ... , 0, 0, 0]\n",
      "    dn/d[o/h] ------> [0, 0, 0, ... , 0, 0, 0]\n",
      "    dn/d[sr/fe] ----> [0, 0, 0, ... , 0, 0, 0]\n",
      "    dn/d[o/fe] -----> [0, 0, 0, ... , 0, 0, 0]\n",
      "    dn/d[o/sr] -----> [0, 0, 0, ... , 0, 0, 0]\n",
      "}\n",
      "vice.dataframe{\n",
      "    fe -------------> 0.0012\n",
      "    sr -------------> 3.5e-08\n",
      "    o --------------> 0.015\n",
      "}\n",
      "vice.dataframe{\n",
      "    fe -------------> 0.0017\n",
      "    sr -------------> 0.0\n",
      "    o --------------> 0.0\n",
      "}\n",
      "vice.dataframe{\n",
      "    fe -------------> cristallo11\n",
      "    sr -------------> cristallo11\n",
      "    o --------------> cristallo11\n",
      "}\n"
     ]
    }
   ],
   "source": [
    "out = vice.output(\"example\") \n",
    "print(out.history) \n",
    "print(out.mdf) \n",
    "print(out.ccsne_yields) \n",
    "print(out.sneia_yields) \n",
    "print(out.agb_yields) "
   ]
  },
  {
   "cell_type": "markdown",
   "metadata": {},
   "source": [
    "An ``output`` object can also be returned immediately following a simulation of a one-zone model by simply passing the keyword argument ``capture = True``. For example, ``out = example.run(np.linspace(0, 10, 1001), capture = True)`` would achieve the same effect as ``example.run(np.linspace(0, 10, 1001))`` followed by ``out = vice.output(\"example\")``. \n",
    "\n",
    "``output`` objects are also convenient for the ``show`` function, intended to allow users to visualize the results of their simulations immediately without plotting it themselves. This function is not intended to produce publication quality figures, but is intended to provide quick-and-dirty data visualizations to speed up work flow and debugging. Usage of the ``output.show`` function requires ``matplotlib >= 2.0.0``. To use it, simply pass a keyword string: "
   ]
  },
  {
   "cell_type": "code",
   "execution_count": 28,
   "metadata": {},
   "outputs": [
    {
     "data": {
      "image/png": "[encoded data removed]",
      "text/plain": [
       "<Figure size 432x288 with 1 Axes>"
      ]
     },
     "metadata": {},
     "output_type": "display_data"
    },
    {
     "data": {
      "image/png": "[encoded data removed]",
      "text/plain": [
       "<Figure size 432x288 with 1 Axes>"
      ]
     },
     "metadata": {},
     "output_type": "display_data"
    },
    {
     "data": {
      "image/png": "[encoded data removed]",
      "text/plain": [
       "<Figure size 432x288 with 1 Axes>"
      ]
     },
     "metadata": {},
     "output_type": "display_data"
    }
   ],
   "source": [
    "%matplotlib inline \n",
    "out.show(\"[fe/h]\") \n",
    "out.show(\"[o/fe]-[fe/h]\") \n",
    "out.show(\"dn/d[o/fe]\") "
   ]
  },
  {
   "cell_type": "markdown",
   "metadata": {},
   "source": [
    "<a id=\"migration\"></a> \n",
    "Migration Prescriptions \n",
    "------------------------\n",
    "Before diving into multi-zone models and how to set them up, let's take a look at how VICE allows users to encode their migration prescriptions. This is possible through the ``vice.migration`` module. The simplest way is to make a ``vice.migration.specs`` object and telling it how many zones are in your model. For example, a migration prescription for a five-zone model: "
   ]
  },
  {
   "cell_type": "code",
   "execution_count": 29,
   "metadata": {},
   "outputs": [
    {
     "name": "stdout",
     "output_type": "stream",
     "text": [
      "Stars: <function _DEFAULT_STELLAR_MIGRATION_ at 0x7fa2682dc9e0>\n",
      "                      Gas:     MigrationMatrix{\n",
      "        0 ---------> {0.0, 0.0, 0.0, 0.0, 0.0}\n",
      "        1 ---------> {0.0, 0.0, 0.0, 0.0, 0.0}\n",
      "        2 ---------> {0.0, 0.0, 0.0, 0.0, 0.0}\n",
      "        3 ---------> {0.0, 0.0, 0.0, 0.0, 0.0}\n",
      "        4 ---------> {0.0, 0.0, 0.0, 0.0, 0.0}\n",
      "    }\n",
      "\n"
     ]
    }
   ],
   "source": [
    "mig = vice.migration.specs(5) \n",
    "print(mig)"
   ]
  },
  {
   "cell_type": "markdown",
   "metadata": {},
   "source": [
    "These objects have two attributes: ``stars`` denoting the stellar migration, and ``gas`` denoting the gas migration. The stellar migration prescription must be a function of three variables: the index of the zone a stellar population was born in, the time it formed, and simulation time, in that order. It must then return an integer representing the index of the zone the stellar population is in at that simulation time. If different stellar populations born in the same zone and at the same time are to migrate differently, this function can accept a keyword argument ``n`` as necessary. With this approach, VICE's stellar migration prescription is highly flexible. \n",
    "\n",
    "The default function always returns the zone the stellar population formed in, which corresponds to the limiting case in which all stellar populations remain in their zone of birth. "
   ]
  },
  {
   "cell_type": "code",
   "execution_count": 30,
   "metadata": {},
   "outputs": [
    {
     "name": "stdout",
     "output_type": "stream",
     "text": [
      "0\n",
      "2\n",
      "4\n"
     ]
    }
   ],
   "source": [
    "print(mig.stars(0, 1, 4)) \n",
    "print(mig.stars(2, 2.7, 8.3)) \n",
    "print(mig.stars(4, 5.6, 10.2)) "
   ]
  },
  {
   "cell_type": "markdown",
   "metadata": {},
   "source": [
    "The stellar migration prescription is a matrix coupling each pair of zones. The $ij$'th element represents the fraction of the gas which migrates *from* the $i$'th zone *into* the $j$'th zone in a 10 Myr time interval. At each timestep, the masses of all elements and the gas which migrates will be multiplied by the timestep size $\\Delta t$ and divided by 10 Myr; this is added to ensure models with different timestep sizes do not implicitly have stronger or weaker gas migration. Each element of this matrix can be either a number denoting a constant fractional migration rate or a function of time in Gyr denoting time-dependent migration between those two zones. By default, all elements are zero, corresponding to the limiting case where gas does not migrate between zones: "
   ]
  },
  {
   "cell_type": "code",
   "execution_count": 31,
   "metadata": {},
   "outputs": [
    {
     "name": "stdout",
     "output_type": "stream",
     "text": [
      "MigrationMatrix{\n",
      "    0 ---------> {0.0, 0.0, 0.0, 0.0, 0.0}\n",
      "    1 ---------> {0.0, 0.0, 0.0, 0.0, 0.0}\n",
      "    2 ---------> {0.0, 0.0, 0.0, 0.0, 0.0}\n",
      "    3 ---------> {0.0, 0.0, 0.0, 0.0, 0.0}\n",
      "    4 ---------> {0.0, 0.0, 0.0, 0.0, 0.0}\n",
      "}\n"
     ]
    }
   ],
   "source": [
    "print(mig.gas) "
   ]
  },
  {
   "cell_type": "markdown",
   "metadata": {},
   "source": [
    "Because the diagonal elements would correspond to migration within a single zone, they are irrelevant. In fact, VICE ignores them entirely, adopting them to be zero always, regardless of the user input there. Item assignment to modify the gas migration prescription is simple: by placing 0.1 in the $1,2$ element, 10 percent of the gas in zone 1 will migrate to zone 2 every 10 Myr. Additionally, a function of time can be placed in the $2,3$ element to represent time-dependent migration from zone 2 to zone 3; the values returned from this function will still be multiplied by $\\Delta t /$10 Myr. "
   ]
  },
  {
   "cell_type": "code",
   "execution_count": 32,
   "metadata": {},
   "outputs": [
    {
     "name": "stdout",
     "output_type": "stream",
     "text": [
      "MigrationMatrix{\n",
      "    0 ---------> {0.0, 0.0, 0.0, 0.0, 0.0}\n",
      "    1 ---------> {0.0, 0.0, 0.1, 0.0, 0.0}\n",
      "    2 ---------> {0.0, 0.0, 0.0, <function timedep_migration at 0x7fa2c86bf680>, 0.0}\n",
      "    3 ---------> {0.0, 0.0, 0.0, 0.0, 0.0}\n",
      "    4 ---------> {0.0, 0.0, 0.0, 0.0, 0.0}\n",
      "}\n"
     ]
    }
   ],
   "source": [
    "def timedep_migration(t): \n",
    "    r\"\"\" \n",
    "    Some function of time describing time-dependent migration between zones. \n",
    "    \"\"\" \n",
    "    return 0.5 * math.exp(-t / 3) \n",
    "mig.gas[1][2] = 0.1 \n",
    "mig.gas[2][3] = timedep_migration \n",
    "print(mig.gas) "
   ]
  },
  {
   "cell_type": "markdown",
   "metadata": {},
   "source": [
    "<a id=\"multizonemodels\"></a> \n",
    "Multi-Zone Models \n",
    "-----------------\n",
    "At its core, VICE's ``multizone`` object is simply an array of ``singlezone`` objects. Users can create them by passing the desired number of zones as the keyword argument ``n_zones``. For example, a five-zone model: "
   ]
  },
  {
   "cell_type": "code",
   "execution_count": 33,
   "metadata": {},
   "outputs": [
    {
     "name": "stdout",
     "output_type": "stream",
     "text": [
      "vice.multizone{\n",
      "    name -----------> example\n",
      "    n_zones --------> 5\n",
      "    n_stars --------> 1\n",
      "    verbose --------> False\n",
      "    simple ---------> False\n",
      "    zones ----------> ['zone0', 'zone1', 'zone2', 'zone3', 'zone4']\n",
      "    migration ------> Stars: <function _DEFAULT_STELLAR_MIGRATION_ at 0x7fa2682dc9e0>\n",
      "                      Gas:     MigrationMatrix{\n",
      "        0 ---------> {0.0, 0.0, 0.0, 0.0, 0.0}\n",
      "        1 ---------> {0.0, 0.0, 0.0, 0.0, 0.0}\n",
      "        2 ---------> {0.0, 0.0, 0.0, 0.0, 0.0}\n",
      "        3 ---------> {0.0, 0.0, 0.0, 0.0, 0.0}\n",
      "        4 ---------> {0.0, 0.0, 0.0, 0.0, 0.0}\n",
      "    }\n",
      "\n",
      "}\n"
     ]
    }
   ],
   "source": [
    "mz = vice.multizone(name = \"example\", n_zones = 5) \n",
    "print(mz) "
   ]
  },
  {
   "cell_type": "markdown",
   "metadata": {},
   "source": [
    "Below is a table providing a brief description of each attribute: \n",
    "\n",
    "| Attribute | Description | \n",
    "| --- | --- | \n",
    "| name | The name of the output directory, to which VICE will add a \".vice\" extension. The output for each individual zone will be stored within this directory. | \n",
    "| n_zones | The number of zones in the model. Cannot be modified after creation of the ``multizone`` object. | \n",
    "| n_stars | The number of stellar populations VICE should form per zone per timestep. | \n",
    "| verbose | If ``True``, VICE will print output to the console as it runs the model. | \n",
    "| simple | If ``True``, VICE will run each zone as a one-zone model. This deliberately neglects the migration prescription. | \n",
    "| zones | The names of each individual zone. Can be modified by accessing the zone directly. | \n",
    "| migration | The ``vice.migration.specs`` object containing this model's migration prescription. | \n",
    "\n",
    "Each zone is a ``singlezone`` object, and can be modified with the same freedom as one-zone models. The migration prescription can be modified directly, or swapped for another one entirely. For example: "
   ]
  },
  {
   "cell_type": "code",
   "execution_count": 34,
   "metadata": {},
   "outputs": [
    {
     "name": "stdout",
     "output_type": "stream",
     "text": [
      "vice.multizone{\n",
      "    name -----------> example\n",
      "    n_zones --------> 5\n",
      "    n_stars --------> 1\n",
      "    verbose --------> False\n",
      "    simple ---------> False\n",
      "    zones ----------> ['newname', 'zone1', 'zone2', 'zone3', 'zone4']\n",
      "    migration ------> Stars: <function _DEFAULT_STELLAR_MIGRATION_ at 0x7fa2682dc9e0>\n",
      "                      Gas:     MigrationMatrix{\n",
      "        0 ---------> {0.0, 0.1, 0.0, 0.0, 0.0}\n",
      "        1 ---------> {0.0, 0.0, 0.0, 0.0, 0.0}\n",
      "        2 ---------> {0.0, 0.0, 0.0, 0.0, 0.0}\n",
      "        3 ---------> {0.0, 0.0, 0.0, 0.0, 0.0}\n",
      "        4 ---------> {0.0, 0.0, 0.0, 0.0, 0.0}\n",
      "    }\n",
      "\n",
      "}\n",
      "vice.singlezone{\n",
      "    name -----------> newname\n",
      "    func -----------> <function _DEFAULT_FUNC_ at 0x7fa2682dc4d0>\n",
      "    mode -----------> ifr\n",
      "    verbose --------> False\n",
      "    elements -------> ('fe', 'sr', 'o')\n",
      "    IMF ------------> kroupa\n",
      "    eta ------------> 1.2\n",
      "    enhancement ----> 1.0\n",
      "    entrainment ----> <entrainment settings>\n",
      "    Zin ------------> 0.0\n",
      "    recycling ------> continuous\n",
      "    delay ----------> 0.15\n",
      "    RIa ------------> plaw\n",
      "    Mg0 ------------> 6000000000.0\n",
      "    smoothing ------> 0.0\n",
      "    tau_ia ---------> 1.5\n",
      "    tau_star -------> 5.0\n",
      "    schmidt --------> False\n",
      "    schmidt_index --> 0.5\n",
      "    MgSchmidt ------> 6000000000.0\n",
      "    dt -------------> 0.01\n",
      "    m_upper --------> 100.0\n",
      "    m_lower --------> 0.08\n",
      "    postMS ---------> 0.1\n",
      "    Z_solar --------> 0.014\n",
      "    bins -----------> [-3, -2.95, -2.9, ... , 0.9, 0.95, 1]\n",
      "}\n"
     ]
    }
   ],
   "source": [
    "mz.zones[0].name = \"newname\" \n",
    "mz.zones[0].tau_star = 5 \n",
    "mz.zones[0].eta = 1.2 \n",
    "mz.migration.gas[0][1] = 0.1 \n",
    "print(mz) \n",
    "print(mz.zones[0]) "
   ]
  },
  {
   "cell_type": "code",
   "execution_count": 35,
   "metadata": {},
   "outputs": [
    {
     "name": "stdout",
     "output_type": "stream",
     "text": [
      "vice.multizone{\n",
      "    name -----------> example\n",
      "    n_zones --------> 5\n",
      "    n_stars --------> 1\n",
      "    verbose --------> False\n",
      "    simple ---------> False\n",
      "    zones ----------> ['newname', 'zone1', 'zone2', 'zone3', 'zone4']\n",
      "    migration ------> Stars: <function _DEFAULT_STELLAR_MIGRATION_ at 0x7fa2682dc9e0>\n",
      "                      Gas:     MigrationMatrix{\n",
      "        0 ---------> {0.0, 0.0, 0.0, 0.0, 0.0}\n",
      "        1 ---------> {0.0, 0.0, 0.1, 0.0, 0.0}\n",
      "        2 ---------> {0.0, 0.0, 0.0, <function timedep_migration at 0x7fa2c86bf680>, 0.0}\n",
      "        3 ---------> {0.0, 0.0, 0.0, 0.0, 0.0}\n",
      "        4 ---------> {0.0, 0.0, 0.0, 0.0, 0.0}\n",
      "    }\n",
      "\n",
      "}\n"
     ]
    }
   ],
   "source": [
    "mz.migration = mig \n",
    "print(mz) "
   ]
  },
  {
   "cell_type": "markdown",
   "metadata": {},
   "source": [
    "In all ``multizone`` models, the \"index\" of a given zone refers simply to its array-index in the ``multizone.zones`` array. Zone 0 corresponds to ``multizone.zones[0]``, zone 1 to ``multizone.zones[1]``, and so on. Users can set up the evolutionary histories of each individual zone as their model necessitates, and couple them with migration according to the ``vice.migration.specs`` object. Running their model is then as simple as calling ``multizone.run``: "
   ]
  },
  {
   "cell_type": "code",
   "execution_count": 36,
   "metadata": {},
   "outputs": [
    {
     "name": "stdout",
     "output_type": "stream",
     "text": [
      "Output directory already exists. Overwriting will delete all of its contents, leaving only the results of the current simulation.\n",
      "Output directory: example.vice\n",
      "Overwrite? (y | n) y\n"
     ]
    }
   ],
   "source": [
    "out = mz.run(np.linspace(0, 10, 1001), capture = True)"
   ]
  },
  {
   "cell_type": "markdown",
   "metadata": {},
   "source": [
    "The keyword arguments ``capture`` and ``overwrite`` perform the exact same functionality for the ``multizone`` object as the ``singlezone`` object. Only now, VICE returns a ``multioutput`` object from the ``multizone`` model, which is at its core an array of ``output`` objects, plus the relevant information on each individual stellar population. Each zones corresponding ``output`` object can be accessed via its name. "
   ]
  },
  {
   "cell_type": "code",
   "execution_count": 37,
   "metadata": {},
   "outputs": [
    {
     "name": "stdout",
     "output_type": "stream",
     "text": [
      "example\n",
      "vice.dataframe{\n",
      "    formation_time -> [0, 0, 0, ... , 10, 10, 10]\n",
      "    zone_origin ----> [0, 1, 2, ... , 2, 3, 4]\n",
      "    zone_final -----> [0, 1, 2, ... , 2, 3, 4]\n",
      "    mass -----------> [1.2e+07, 3e+07, 3e+07, ... , 2.41078e+07, 6.08458e+07, 2.96329e+07]\n",
      "    z(fe) ----------> [0, 0, 0, ... , 0.000370007, 0.00114626, 0.000890306]\n",
      "    z(sr) ----------> [0, 0, 0, ... , 7.19353e-09, 3.17026e-08, 2.47453e-08]\n",
      "    z(o) -----------> [0, 0, 0, ... , 0.00230899, 0.00604476, 0.0047919]\n",
      "    [fe/h] ---------> [-inf, -inf, -inf, ... , -0.542379, -0.0513077, -0.161051]\n",
      "    [sr/h] ---------> [-inf, -inf, -inf, ... , -0.818836, -0.174683, -0.282286]\n",
      "    [o/h] ----------> [-inf, -inf, -inf, ... , -0.393974, 0.023983, -0.0768886]\n",
      "    [sr/fe] --------> [nan, nan, nan, ... , -0.276457, -0.123375, -0.121236]\n",
      "    [o/fe] ---------> [nan, nan, nan, ... , 0.148405, 0.0752907, 0.084162]\n",
      "    [o/sr] ---------> [nan, nan, nan, ... , 0.424862, 0.198666, 0.205398]\n",
      "    z --------------> [0, 0, 0, ... , 0.00535033, 0.0143615, 0.0113482]\n",
      "    [m/h] ----------> [-inf, -inf, -inf, ... , -0.417748, 0.0110713, -0.0912023]\n",
      "    age ------------> [10, 10, 10, ... , 0, 0, 0]\n",
      "}\n",
      "<VICE output from singlezone: example.vice/newname>\n",
      "<VICE output from singlezone: example.vice/zone1>\n"
     ]
    }
   ],
   "source": [
    "print(out.name) \n",
    "print(out.stars) \n",
    "print(out.zones[\"newname\"]) \n",
    "print(out.zones[\"zone1\"]) "
   ]
  },
  {
   "cell_type": "markdown",
   "metadata": {},
   "source": [
    "Accessing the data in ``out.zones[\"newname\"]`` and ``out.zones[\"zone1\"]`` proceeds exactly as it did for the ``singlezone`` object, except now the model predictions reflect the user's built-in migration scheme coupling the zones. \n",
    "\n",
    "Below is a table providing a brief description of each key in the ``out.stars`` dataframe, which stores the output information for each individual stellar population. \n",
    "\n",
    "| Key | Description | \n",
    "| --- | --- | \n",
    "| formation_time | Simulation time in Gyr at which a stellar population formed. | \n",
    "| zone_origin | The index of each stellar population's zone of formation. | \n",
    "| zone_final | The index of each stellar population's zone at the present day. | \n",
    "| mass | Each stellar population's initial mass in $M_\\odot$. | \n",
    "| z(x) | The abundance by mass of some element $x$ in that population ($M_x / M_\\star$). | \n",
    "| [x/h] | The logarithmic abundance by mass relative to the sun of the element $x$. | \n",
    "| [x/y] | The logarithmic abundance ratio relative to the sun of the element $x$ to the element $y$. | \n",
    "| z | The total abundance by mass, scaled according to the adopted solar composition. | \n",
    "| [m/h] | The logarithmic total abundance by mass, scaled in the same way as ``z``: [m/h] = $\\log_{10}(Z / Z_\\odot)$. | \n",
    "| age | The age of each stellar population in Gyr. | \n",
    "\n",
    "The ``multioutput.stars`` dataframe shares much of the same functionality as the ``output.history`` instances of these dataframes. For example: "
   ]
  },
  {
   "cell_type": "code",
   "execution_count": 38,
   "metadata": {},
   "outputs": [
    {
     "name": "stdout",
     "output_type": "stream",
     "text": [
      "0.11768374468931368\n",
      "-0.11768374468931368\n",
      "vice.dataframe{\n",
      "    formation_time -> 10.0\n",
      "    zone_origin ----> 4.0\n",
      "    zone_final -----> 4.0\n",
      "    mass -----------> 29632900.0\n",
      "    z(fe) ----------> 0.0008903057\n",
      "    z(sr) ----------> 2.474527e-08\n",
      "    z(o) -----------> 0.004791897\n",
      "    [fe/h] ---------> -0.16105055643268462\n",
      "    [sr/h] ---------> -0.282286144837462\n",
      "    [o/h] ----------> -0.07688855430583957\n",
      "    [sr/fe] --------> -0.12123558840477738\n",
      "    [o/fe] ---------> 0.08416200212684505\n",
      "    [o/sr] ---------> 0.20539759053162243\n",
      "    z --------------> 0.011348166380983385\n",
      "    [m/h] ----------> -0.09120234110524574\n",
      "    age ------------> 0.0\n",
      "}\n"
     ]
    }
   ],
   "source": [
    "print(out.stars['[o/fe]'][-10]) \n",
    "print(out.stars['[fe/o]'][-10]) \n",
    "print(out.stars[-1]) "
   ]
  },
  {
   "cell_type": "markdown",
   "metadata": {},
   "source": [
    "<a id=\"multizonemodels_milkyway\"></a> \n",
    "Milky Way Models \n",
    "----------------\n",
    "VICE provides the ``vice.milkyway`` object, which is a subclass of the ``multizone`` object designed specifically for modeling Milky Way like galaxies. This is the object employed in running the Johnson et al. (2021) multi-zone models. It enforces a multi-ring approach, in which each zone corresponds to a given annulus of the Milky Way disk. Zone 0 is the innermost zone at $R$ = 0, and the final zone will extend to at least $R$ = 20 kpc. By default, it adopts the stellar migration prescription informed from the ``h277`` simulation encodes in the ``vice.toolkit.hydrodisk.hydrodiskstars`` object, their star formation law, and their scaling of the mass loading factor $\\eta$ with radius. To create one, simply tell it the desired width of each annulus and an approximate number of star particles you need from the ``h277`` simulation: "
   ]
  },
  {
   "cell_type": "code",
   "execution_count": 39,
   "metadata": {},
   "outputs": [
    {
     "name": "stdout",
     "output_type": "stream",
     "text": [
      "vice.milkyway{\n",
      "    name -----------> milkyway\n",
      "    n_zones --------> 20\n",
      "    n_stars --------> 1\n",
      "    verbose --------> False\n",
      "    simple ---------> False\n",
      "    annuli ---------> [0, 1, 2, ... , 18, 19, 20]\n",
      "    evolution ------> <function milkyway.default_evolution at 0x7fa22815bdd0>\n",
      "    mode -----------> ifr\n",
      "    elements -------> ('fe', 'sr', 'o')\n",
      "    IMF ------------> kroupa\n",
      "    mass_loading ---> <function milkyway.default_mass_loading at 0x7fa22815d320>\n",
      "    dt -------------> 0.01\n",
      "    bins -----------> [-3, -2.95, -2.9, ... , 0.9, 0.95, 1]\n",
      "    delay ----------> 0.15\n",
      "    RIa ------------> plaw\n",
      "    smoothing ------> 0.0\n",
      "    tau_ia ---------> 1.5\n",
      "    m_upper --------> 100.0\n",
      "    m_lower --------> 0.08\n",
      "    postMS ---------> 0.1\n",
      "    Z_solar --------> 0.014\n",
      "}\n"
     ]
    }
   ],
   "source": [
    "mw = vice.milkyway(zone_width = 1.0, N = 2e5) \n",
    "print(mw) "
   ]
  },
  {
   "cell_type": "markdown",
   "metadata": {},
   "source": [
    "Each attribute of the ``milkyway`` object corresponds to attributes of either ``multizone`` or ``singlezone`` objects, each simply brought to the front so they can be modified across all zones. For example, ``mw.dt = 0.02`` is the same as ``for zone in mw.zones: zone.dt = 0.02``. There are a few attributes with new names, however: ``annuli``, ``evolution``, and ``mass_loading``. \n",
    "\n",
    "``annuli`` simply stores the edges of each annulus of the model. Under the current example, $R$ = 0 to $R$ = 1 kpc is described by ``mw.zones[0]``, $R$ = 1 kpc to $R$ = 2 kpc is described by ``mw.zones[1]``, and so on. \n",
    "\n",
    "``evolution`` stores a function of radius and time describing either the surface density of infall in $M_\\odot$ kpc$^{-2}$ yr$^{-1}$, the surface density of star formation in $M_\\odot$ kpc$^{-2}$ yr$^{-1}$, or the surface density of gas in $M_\\odot$ kpc$^{-2}$. The interpretation is again set by the attribute ``mode``. Setting this attribute will modify the ``func`` attributes of each zone accordingly, taking into account their surface area to construct the required function describing the evolution in terms of mass rather than surface density. Users should be aware that this is the *only* component of VICE which allows users to formulate their equations in terms of surface density, and that they may still modify each zone's ``func`` attribute after specifying all of them via this attribute in order to make special modifications. \n",
    "\n",
    "``mass_loading`` is a function of radius $R$ in kpc describing the value of the mass loading factor $\\eta$ in those annuli, assuming the center of each annulus to provide the exact value of $R$. Although users may assign the value of $\\eta$ to all zones given this function, they're still able to modify individual zones to make special modifications. \n",
    "\n",
    "The ``milkyway`` object inherits the ``run`` function from the ``multizone`` class, meaning that it, and reading in the output, proceed exactly as before. Users should be aware however that even though they may specify the evolutionary history in terms of a surface density, *all* output will be in terms of mass with units of $M_\\odot$, rather than surface densities with units of $M_\\odot$ kpc$^{-2}$. "
   ]
  },
  {
   "cell_type": "code",
   "execution_count": 40,
   "metadata": {},
   "outputs": [
    {
     "name": "stdout",
     "output_type": "stream",
     "text": [
      "Output directory already exists. Overwriting will delete all of its contents, leaving only the results of the current simulation.\n",
      "Output directory: milkyway.vice\n",
      "Overwrite? (y | n) y\n"
     ]
    }
   ],
   "source": [
    "mw.dt = 0.05 \n",
    "out = mw.run(np.linspace(0, 10, 1001), capture = True)"
   ]
  },
  {
   "cell_type": "code",
   "execution_count": 41,
   "metadata": {},
   "outputs": [
    {
     "name": "stdout",
     "output_type": "stream",
     "text": [
      "<VICE output from singlezone: milkyway.vice/zone0>\n",
      "vice.dataframe{\n",
      "    formation_time -> [0, 0, 0, ... , 10, 10, 10]\n",
      "    zone_origin ----> [0, 1, 2, ... , 17, 18, 19]\n",
      "    zone_final -----> [0, 3, 3, ... , 17, 18, 19]\n",
      "    mass -----------> [7.50957e-29, 3.48041e-29, 2.43409e-29, ... , 54977.2, 58114, 61254.1]\n",
      "    z(fe) ----------> [0, 0, 0, ... , 1.05543e-08, 0, 0]\n",
      "    z(sr) ----------> [0, 0, 0, ... , 2.00907e-13, 0, 0]\n",
      "    z(o) -----------> [0, 0, 0, ... , 7.86982e-08, 0, 0]\n",
      "    [fe/h] ---------> [-inf, -inf, -inf, ... , -5.08716, -inf, -inf]\n",
      "    [sr/h] ---------> [-inf, -inf, -inf, ... , -5.37278, -inf, -inf]\n",
      "    [o/h] ----------> [-inf, -inf, -inf, ... , -4.86143, -inf, -inf]\n",
      "    [sr/fe] --------> [nan, nan, nan, ... , -0.285623, nan, nan]\n",
      "    [o/fe] ---------> [nan, nan, nan, ... , 0.225729, nan, nan]\n",
      "    [o/sr] ---------> [nan, nan, nan, ... , 0.511352, nan, nan]\n",
      "    z --------------> [0, 0, 0, ... , 1.78249e-07, 0, 0]\n",
      "    [m/h] ----------> [-inf, -inf, -inf, ... , -4.8951, -inf, -inf]\n",
      "    age ------------> [10, 10, 10, ... , 0, 0, 0]\n",
      "}\n"
     ]
    }
   ],
   "source": [
    "print(out.zones[\"zone0\"]) \n",
    "print(out.stars) "
   ]
  },
  {
   "cell_type": "markdown",
   "metadata": {},
   "source": [
    "<a id=\"useful_data\"></a> \n",
    "Useful Built-in Data \n",
    "--------------------\n",
    "VICE makes much of its internal data directly accessible to users. First and foremost are built-in instances of the ``dataframe``: \n",
    "\n",
    "- ``atomic_number``: The proton number of each element.\n",
    "- ``solar_z``: The abundance by mass of each element in the sun. \n",
    "- ``sources``: The dominant astrophysical production sites of each element as reported by Johnson (2019), Science, 363, 474 \n",
    "- ``stable_isotopes``: The isotopes of each element which are not radioactive. \n",
    "\n",
    "The ``solar_z`` dataframe encodes the solar abundances which VICE will adopt in its chemical evolution simulations. By default, it adopts the Asplund et al. (2009), ARA&A, 47, 481 photospheric values (with the exception of helium, for which it adopts their derived bulk abundance). The values stored there can be modified however users see fit, and changes will be reflected in chemical evolution simulations (but be careful to also modify the ``Z_solar`` attribute of the ``singlezone`` class if necessary). "
   ]
  },
  {
   "cell_type": "code",
   "execution_count": 42,
   "metadata": {},
   "outputs": [
    {
     "name": "stdout",
     "output_type": "stream",
     "text": [
      "8\n",
      "0.000706\n",
      "[54, 56, 57, 58]\n"
     ]
    }
   ],
   "source": [
    "print(vice.atomic_number['o']) \n",
    "print(vice.solar_z['mg']) \n",
    "print(vice.stable_isotopes['fe']) "
   ]
  },
  {
   "cell_type": "markdown",
   "metadata": {},
   "source": [
    "Thank You! \n",
    "==========\n",
    "\n",
    "We hope you found this tutorial helpful! Remember that VICE's documentation can be found at https://vice-astro.readthedocs.io/en/latest/, and that simply running ``vice --docs`` from a ``Unix`` terminal will launch this web page automatically. "
   ]
  }
 ],
 "metadata": {
  "kernelspec": {
   "display_name": "Python 3",
   "language": "python",
   "name": "python3"
  },
  "language_info": {
   "codemirror_mode": {
    "name": "ipython",
    "version": 3
   },
   "file_extension": ".py",
   "mimetype": "text/x-python",
   "name": "python",
   "nbconvert_exporter": "python",
   "pygments_lexer": "ipython3",
   "version": "3.7.4"
  }
 },
 "nbformat": 4,
 "nbformat_minor": 2
}
